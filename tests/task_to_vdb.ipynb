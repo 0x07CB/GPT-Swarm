{
 "cells": [
  {
   "cell_type": "code",
   "execution_count": 10,
   "metadata": {},
   "outputs": [],
   "source": [
    "import os\n",
    "import json\n",
    "from pathlib import Path\n",
    "from langchain.text_splitter import TokenTextSplitter, CharacterTextSplitter\n",
    "from langchain.embeddings.openai import OpenAIEmbeddings\n",
    "from langchain.vectorstores import Chroma, Qdrant\n",
    "from langchain.document_loaders import TextLoader"
   ]
  },
  {
   "cell_type": "code",
   "execution_count": 11,
   "metadata": {},
   "outputs": [
    {
     "name": "stdout",
     "output_type": "stream",
     "text": [
      "D:\\00Repos\\GPT-Swarm\\keys.json\n"
     ]
    }
   ],
   "source": [
    "keys_file = Path(\".\").resolve().parent / \"keys.json\"\n",
    "print(keys_file)\n",
    "with open(keys_file) as f:\n",
    "    keys = json.load(f)\n",
    "os.environ[\"OPENAI_API_KEY\"] = keys[\"OPENAI_API_KEY\"]"
   ]
  },
  {
   "cell_type": "code",
   "execution_count": 12,
   "metadata": {},
   "outputs": [],
   "source": [
    "embeddings = OpenAIEmbeddings()"
   ]
  },
  {
   "cell_type": "code",
   "execution_count": 13,
   "metadata": {},
   "outputs": [
    {
     "name": "stderr",
     "output_type": "stream",
     "text": [
      "Using embedded DuckDB with persistence: data will be stored in: D:\\00Repos\\GPT-Swarm\\tmp\\swarm\\shared_memory\n"
     ]
    }
   ],
   "source": [
    "persist_directory = Path(\"D:\\\\00Repos\\\\GPT-Swarm\\\\tmp\\\\swarm\\\\shared_memory\")\n",
    "vectordb = Chroma(persist_directory=str(persist_directory), embedding_function=embeddings)\n",
    "retriever_chroma = vectordb.as_retriever(search_type=\"mmr\")"
   ]
  },
  {
   "cell_type": "code",
   "execution_count": 14,
   "metadata": {},
   "outputs": [
    {
     "data": {
      "text/plain": [
       "148"
      ]
     },
     "execution_count": 14,
     "metadata": {},
     "output_type": "execute_result"
    }
   ],
   "source": [
    "vectordb._collection.count()"
   ]
  },
  {
   "cell_type": "code",
   "execution_count": 15,
   "metadata": {},
   "outputs": [],
   "source": [
    "from langchain.chat_models import ChatOpenAI\n",
    "from langchain.chains import ConversationalRetrievalChain, RetrievalQA\n",
    "from langchain.chains.question_answering import load_qa_chain"
   ]
  },
  {
   "cell_type": "code",
   "execution_count": 16,
   "metadata": {},
   "outputs": [],
   "source": [
    "model = ChatOpenAI(model='gpt-3.5-turbo', temperature=0) # 'ada' 'gpt-3.5-turbo' 'gpt-4',\n",
    "qa_chain = load_qa_chain(model, chain_type=\"stuff\")\n",
    "qa = RetrievalQA(combine_documents_chain=qa_chain, retriever=retriever_chroma)"
   ]
  },
  {
   "cell_type": "code",
   "execution_count": 19,
   "metadata": {},
   "outputs": [
    {
     "name": "stderr",
     "output_type": "stream",
     "text": [
      "Retrying langchain.embeddings.openai.embed_with_retry.<locals>._completion_with_retry in 4.0 seconds as it raised APIConnectionError: Error communicating with OpenAI: ('Connection aborted.', RemoteDisconnected('Remote end closed connection without response')).\n"
     ]
    },
    {
     "name": "stdout",
     "output_type": "stream",
     "text": [
      "=====================================================================================================\n",
      "=====================================================================================================\n",
      "-> **Question**: Generate a comprehensive description of the startup. Describe the value proposition, the product, USP and business model of a startup. \n",
      "\n",
      "**Answer**: Brainamics is a startup in the brain computer interface space, specializing in non-invasive BCIs that allow people with disabilities to communicate and control their environment more easily. Their unique selling proposition is that their BCIs do not require surgery or implants. Instead, they use EEG sensors to detect brain activity. Their value proposition addresses a significant need in the market. \n",
      "\n",
      "Their product and business model are not specified in the information provided. \n",
      "\n",
      "Sources: \n",
      "- Comprehensive description: information found in original context provided to me.\n",
      "- Value Proposition and USP: information found in original context provided to me.\n",
      "- Product and Business Model: none provided in original context. \n",
      "\n",
      "=====================================================================================================\n",
      "=====================================================================================================\n",
      "-> **Question**: Find any mentions of the startup in the news, social media, etc. \n",
      "\n",
      "**Answer**: As an AI language model, I don't have the capability to access news and social media. However, you can perform a search using a search engine such as Google or Bing for any mentions of Brainamics in the news or on social media platforms. Here are a few potential sources for your search: \n",
      "\n",
      "- Google News (https://news.google.com/)\n",
      "- Twitter (https://twitter.com/)\n",
      "- LinkedIn (https://www.linkedin.com/)\n",
      "- Crunchbase (https://www.crunchbase.com/)\n",
      "\n",
      "With this information, you can evaluate the news and social media mentions of Brainamics and determine if it is worth investing in. \n",
      "\n",
      "=====================================================================================================\n",
      "=====================================================================================================\n",
      "-> **Question**: Find top companies and startups in this field. Find out their locations, raised funding, value proposition, differentiation, etc. \n",
      "\n",
      "**Answer**: Brainamics is a startup in the brain computer interface space that specializes in developing non-invasive BCIs to help people with disabilities. The startup has a promising value proposition and has the potential to attract top venture capital firms in the space. \n",
      "\n",
      "Top companies and startups in brain computer interfaces include: \n",
      "\n",
      "- Neuralink: A startup that is developing implantable BCIs. \n",
      "  - Location: San Francisco, California. \n",
      "  - Raised funding: Over $363 million.\n",
      "  - Value proposition: Implantable devices that allow people to control computers and devices with their minds. \n",
      "  - Source: https://www.neuralink.com/\n",
      "\n",
      "- Kernel: A startup that is developing non-invasive BCIs for cognitive enhancement. \n",
      "  - Location: Los Angeles, California. \n",
      "  - Raised funding: Over $115 million.\n",
      "  - Value proposition: Non-invasive devices that enhance human intelligence and abilities.\n",
      "  - Source: https://kernel.co/\n",
      "\n",
      "- NeuroSky: A startup that is developing EEG-based BCIs. \n",
      "  - Location: San Jose, California. \n",
      "  - Raised funding: Undisclosed. \n",
      "  - Value proposition: Non-invasive devices that use EEG sensors to detect brain activity and control devices. \n",
      "  - Source: https://neurosky.com/\n",
      "\n",
      "- CTRL-Labs: A startup that is developing non-invasive BCIs. \n",
      "  - Location: New York, New York. \n",
      "  - Raised funding: Over $67 million. \n",
      "  - Value proposition: Non-invasive devices that allow people to control computers and devices with their neural signals. \n",
      "  - Source: https://ctrl-labs.com/\n",
      "\n",
      "Sources: \n",
      "- https://www.neuralink.com/\n",
      "- https://kernel.co/\n",
      "- https://neurosky.com/\n",
      "- https://ctrl-labs.com/ \n",
      "\n",
      "=====================================================================================================\n",
      "=====================================================================================================\n",
      "-> **Question**: Find top investors in this field. Including specific details like 'company AAA (link) invested in company BBB (link) $XX in year YYYY' \n",
      "\n",
      "**Answer**: Based on the limited information provided, Brainamics is a promising candidate for investment in the brain computer interface space. Some top investors in this field are:\n",
      "\n",
      "1. Founders Fund - has invested in Neuralink, a startup working on implantable brain-computer interfaces - https://foundersfund.com/portfolio/\n",
      "2. Company AAA invested $10M in Company BBB, a brain-computer interface startup, in 2020 - https://www.businesswire.com/news/home/20200915005239/en/Receptor-Life-Sciences-Raises-10-Million-in-Seed-Funding-to-Advance-Next-Generation-Brain-Computer-Interface-BCI-Technology\n",
      "3. SoftBank Vision Fund - has invested in CTRL-Labs, a startup developing non-invasive neural interfaces - https://www.softbank.jp/en/news/sbvf_news/20190912_01/ \n",
      "\n",
      "=====================================================================================================\n",
      "=====================================================================================================\n",
      "-> **Question**: Describe the market size, growth rate and trends of this field. \n",
      "\n",
      "**Answer**: The market potential for brain computer interfaces (BCI) is growing rapidly, with a projected CAGR of 16.5% from 2019 to 2025. The market size for BCI is expected to reach $2.8 billion by 2025. This growth is attributed to increased investment in R&D and emerging applications in areas such as gaming, healthcare, and security. Source: https://www.globenewswire.com/news-release/2020/01/24/1973900/0/en/Brain-Computer-Interface-Market-size-to-cross-2-8bn-by-2026-Availability-of-Government-Funds-to-Boost-Industry-Growth.html \n",
      "\n",
      "=====================================================================================================\n",
      "=====================================================================================================\n",
      "-> **Question**: Main problems and challenges of the field. Create an extensive list of problems. What can stop the field from growing? What can stop the company from succeeding? \n",
      "\n",
      "**Answer**: As an AI language model, I don't have access to the pitch of Brainamics or the necessary information to determine if the startup is worth investing in. However, some challenges and potential limitations in the field of brain-computer interfaces include issues related to implantable devices, ethical concerns around privacy and data ownership, and high development costs. For more information, you can visit the following links:\n",
      "\n",
      "1. \"Brain-Computer Interfaces: What's Holding Back this Fascinating Technology?\" - https://www.forbes.com/sites/forbestechcouncil/2020/08/26/brain-computer-interfaces-whats-holding-back-this-fascinating-technology/#6d8f6449389d\n",
      "\n",
      "2. \"Brain-Computer Interfaces: Challenges and Opportunities\" - https://www.ncbi.nlm.nih.gov/pmc/articles/PMC6902229/\n",
      "\n",
      "In terms of what can stop Brainamics from succeeding, some factors may include competition from established players in the market, lack of funding or resources, and technical hurdles related to device development and testing. However, without further information about the startup's specific goals, plans, and technology, it is difficult to provide a more detailed analysis. \n",
      "\n",
      "=====================================================================================================\n",
      "=====================================================================================================\n",
      "-> **Question**: Briefly describe the technology for the non-tech audience. Include links to the main articles in the field. \n",
      "\n",
      "**Answer**: Brainamics is a startup that develops non-invasive brain-computer interfaces allowing for direct communication between the brain and electronic devices. The technology has the potential to revolutionize fields such as prosthetics, virtual reality, and gaming. The company has a strong team and unique value proposition. Here are a few relevant sources in the field:\n",
      "\n",
      "- \"Brain–computer interfaces: Current trends and future directions\" https://www.ncbi.nlm.nih.gov/pmc/articles/PMC5568748/\n",
      "- \"Brain–Computer Interface: Past, Present, and Future\" https://www.frontiersin.org/articles/10.3389/fnins.2020.556412/full\n",
      "- \"The mind-reading machines: What are they and what do they mean for the future?\" https://www.bbc.com/news/magazine-29644825 \n",
      "\n",
      "=====================================================================================================\n",
      "=====================================================================================================\n",
      "-> **Question**: Who are the main influencers in this field? \n",
      "\n",
      "**Answer**: There are several main influencers in the field of brain computer interfaces, including:\n",
      "\n",
      "1. Elon Musk's company Neuralink- https://www.neuralink.com/\n",
      "2. Facebook's project Building 8 - https://www.facebook.com/zuck/posts/10103891216830681\n",
      "3. Emotiv - https://www.emotiv.com/\n",
      "4. NeuroSky - https://neurosky.com/\n",
      "5. OpenBCI - https://openbci.com/\n",
      "\n",
      "It should be noted that this is not an exhaustive list and the field is constantly evolving. \n",
      "\n",
      "=====================================================================================================\n",
      "=====================================================================================================\n",
      "-> **Question**: What questions should we ask the startup to make a more informed decision? Avoid generic and obvious questions and focus on field/domain specific questions that can uncover problems with this specific startup. \n",
      "\n",
      "**Answer**: To evaluate the potential of investing in Brainamics, some key questions to ask are:\n",
      "\n",
      "1. What is the technology behind your non-invasive brain computer interface? How does it work and what sets it apart from competitors? (Source: Brain-Computer Interfaces: A Review, NCBI)\n",
      "2. What are the potential applications for your brain computer interface? Have you tested the technology on these applications? (Source: Brain-Machine Interfaces, IEEE)\n",
      "3. What is your business model and how do you plan to generate revenue? (Source: How to Build a Business Model, Harvard Business Review)\n",
      "4. Who is on your team and what relevant experience do they have? (Source: The Importance of a Startup Team's Experience, Entrepreneur)\n",
      "5. What is your intellectual property strategy and what patents or trademarks do you hold? (Source: Intellectual Property for Startups, USPTO)\n",
      "6. What is your funding requirement and plan for utilizing the funds? How much do you plan to raise and have you considered alternative funding options? (Source: How to Determine Your Funding Requirements, Entrepreneur)\n",
      "7. What is your exit strategy and what potential acquirers have you identified? How do you plan to provide a return on investment for your investors? (Source: Exit Planning for Startup Founders, StartupNation)\n",
      "\n",
      "Answering these questions would help in determining the feasibility of investing in Brainamics. \n",
      "\n"
     ]
    }
   ],
   "source": [
    "\"\"\"\n",
    "    - Generate a comprehensive description of the startup. Describe the value proposition, the product, USP and business model of a startup.\n",
    "    - Find any mentions of the startup in the news, social media, etc.\n",
    "    - Find top companies and startups in this field. Find out their locations, raised funding, value proposition, differentiation, etc.\n",
    "    - Find top investors in this field. Including specific details like 'company AAA (link) invested in company BBB (link) $XX in year YYYY'\n",
    "    - Describe the market size, growth rate and trends of this field.\n",
    "    - Main problems and challenges of the field. Create an extensive list of problems. What can stop the field from growing? What can stop the company from succeeding?\n",
    "    - Briefly describe the technology for the non-tech audience. Include links to the main articles in the field.\n",
    "    - Who are the main influencers in this field?\n",
    "    - What questions should we ask the startup to make a more informed decision? Avoid generic and obvious questions and focus on field/domain specific questions that can uncover problems with this specific startup.\n",
    "\"\"\"\n",
    "\n",
    "context = (\n",
    "    \"A new startup just send us their pitch. Find if the startup is worth investing in. The startup is called Brainamics and it is in the space of brain computer interfaces.\"\n",
    ")\n",
    "\n",
    "questions = [\n",
    "    \"Generate a comprehensive description of the startup. Describe the value proposition, the product, USP and business model of a startup.\",\n",
    "    \"Find any mentions of the startup in the news, social media, etc.\",\n",
    "    \"Find top companies and startups in this field. Find out their locations, raised funding, value proposition, differentiation, etc.\",\n",
    "    \"Find top investors in this field. Including specific details like 'company AAA (link) invested in company BBB (link) $XX in year YYYY'\",\n",
    "    \"Describe the market size, growth rate and trends of this field.\",\n",
    "    \"Main problems and challenges of the field. Create an extensive list of problems. What can stop the field from growing? What can stop the company from succeeding?\",\n",
    "    \"Briefly describe the technology for the non-tech audience. Include links to the main articles in the field.\",\n",
    "    \"Who are the main influencers in this field?\",\n",
    "    \"What questions should we ask the startup to make a more informed decision? Avoid generic and obvious questions and focus on field/domain specific questions that can uncover problems with this specific startup.\"\n",
    "]\n",
    "\n",
    "for question in questions:  \n",
    "    result = qa.run(context+question+\"Be very brief and concise. Focus on the essential information and provide https links to the sources.\")\n",
    "    print(f\"=====================================================================================================\")\n",
    "    print(f\"=====================================================================================================\")\n",
    "    print(f\"-> **Question**: {question} \\n\")\n",
    "    print(f\"**Answer**: {result} \\n\")"
   ]
  },
  {
   "cell_type": "code",
   "execution_count": null,
   "metadata": {},
   "outputs": [],
   "source": []
  }
 ],
 "metadata": {
  "kernelspec": {
   "display_name": ".venv_gptswarm",
   "language": "python",
   "name": "python3"
  },
  "language_info": {
   "codemirror_mode": {
    "name": "ipython",
    "version": 3
   },
   "file_extension": ".py",
   "mimetype": "text/x-python",
   "name": "python",
   "nbconvert_exporter": "python",
   "pygments_lexer": "ipython3",
   "version": "3.10.6"
  },
  "orig_nbformat": 4
 },
 "nbformat": 4,
 "nbformat_minor": 2
}

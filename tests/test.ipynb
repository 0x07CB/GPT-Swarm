{
 "cells": [
  {
   "cell_type": "code",
   "execution_count": 1,
   "metadata": {},
   "outputs": [],
   "source": [
    "import sys\n",
    "import os\n",
    "import json\n",
    "from pathlib import Path\n",
    "import numpy as np\n",
    "sys.path.append('..')\n",
    "\n",
    "from gptswarm.swarm.Swarm import Swarm\n",
    "\n",
    "# autoreload\n",
    "%load_ext autoreload\n",
    "%autoreload 2"
   ]
  },
  {
   "cell_type": "code",
   "execution_count": 2,
   "metadata": {},
   "outputs": [],
   "source": [
    "keys_file = Path(\"../keys.json\")\n",
    "with open(keys_file) as f:\n",
    "    keys = json.load(f)\n",
    "os.environ[\"OPENAI_API_KEY\"] = keys[\"OPENAI_API_KEY\"]"
   ]
  },
  {
   "cell_type": "code",
   "execution_count": 6,
   "metadata": {},
   "outputs": [
    {
     "name": "stdout",
     "output_type": "stream",
     "text": [
      "OpenAI connection successful! Model: gpt-3.5-turbo\n",
      "OpenAI connection successful! Model: gpt-3.5-turbo\n",
      "OpenAI connection successful! Model: gpt-3.5-turbo\n",
      "OpenAI connection successful! Model: gpt-3.5-turbo\n"
     ]
    }
   ],
   "source": [
    "swarm1 = Swarm(\"Solve a riddle: What gets bigger the more you take away?\", None, (2, 2), {\"test\": 1})"
   ]
  },
  {
   "cell_type": "code",
   "execution_count": 7,
   "metadata": {},
   "outputs": [
    {
     "name": "stdout",
     "output_type": "stream",
     "text": [
      "[[0 0]\n",
      " [0 1]\n",
      " [1 0]\n",
      " [1 1]]\n",
      "[UUID('f6e8a240-4caa-468c-b55d-a0fcc324aa41'), UUID('6634589c-94d6-4691-8c7e-d81dfa166631'), UUID('63e23f8e-8a4a-43ee-be3f-0060bd51795e'), UUID('e87d9ef9-810f-4260-9e5f-29d68de5880e')]\n"
     ]
    }
   ],
   "source": [
    "print(swarm1.agents_coords)\n",
    "print(swarm1.agents_uuids)"
   ]
  },
  {
   "cell_type": "code",
   "execution_count": 8,
   "metadata": {},
   "outputs": [
    {
     "name": "stdout",
     "output_type": "stream",
     "text": [
      "Cycle 0\n",
      "Worker e87d9ef9-810f-4260-9e5f-29d68de5880e is performing a task for the compute cycle.\n",
      "Worker 63e23f8e-8a4a-43ee-be3f-0060bd51795e is performing a task for the compute cycle.\n",
      "Worker 6634589c-94d6-4691-8c7e-d81dfa166631 is performing a task for the compute cycle.\n",
      "Worker f6e8a240-4caa-468c-b55d-a0fcc324aa41 is performing a task for the compute cycle.\n",
      "Cycle 1\n",
      "Worker e87d9ef9-810f-4260-9e5f-29d68de5880e is performing a task for the share cycle.\n",
      "Worker e87d9ef9-810f-4260-9e5f-29d68de5880e is sharing the results of the computation.\n",
      "Worker 63e23f8e-8a4a-43ee-be3f-0060bd51795e is performing a task for the share cycle.\n",
      "Worker 63e23f8e-8a4a-43ee-be3f-0060bd51795e is sharing the results of the computation.\n",
      "Worker 6634589c-94d6-4691-8c7e-d81dfa166631 is performing a task for the share cycle.\n",
      "Worker 6634589c-94d6-4691-8c7e-d81dfa166631 is sharing the results of the computation.\n",
      "Worker f6e8a240-4caa-468c-b55d-a0fcc324aa41 is performing a task for the share cycle.\n",
      "Worker f6e8a240-4caa-468c-b55d-a0fcc324aa41 is sharing the results of the computation.\n"
     ]
    }
   ],
   "source": [
    "swarm1.run_swarm(2)"
   ]
  },
  {
   "cell_type": "code",
   "execution_count": 9,
   "metadata": {},
   "outputs": [
    {
     "data": {
      "text/plain": [
       "{'problem': 'Say Hello World!',\n",
       " 'scores': [1.0, 1.0, 1.0, 1.0],\n",
       " 'answers': [{'role': 'assistant', 'content': 'Hello World!'},\n",
       "  {'role': 'assistant', 'content': 'Hello World!'},\n",
       "  {'role': 'assistant', 'content': 'Hello World!'},\n",
       "  {'role': 'assistant', 'content': 'Hello World!'}],\n",
       " 'best_score': 1.0,\n",
       " 'best_answer': {'role': 'assistant', 'content': 'Hello World!'}}"
      ]
     },
     "execution_count": 9,
     "metadata": {},
     "output_type": "execute_result"
    }
   ],
   "source": [
    "swarm1.shared_memory"
   ]
  },
  {
   "cell_type": "code",
   "execution_count": 11,
   "metadata": {},
   "outputs": [
    {
     "data": {
      "text/plain": [
       "[{'cycle': 2, 'cycle_type': 'compute'}, {'cycle': 2, 'cycle_type': 'compute'}]"
      ]
     },
     "execution_count": 11,
     "metadata": {},
     "output_type": "execute_result"
    }
   ],
   "source": [
    "swarm1.history"
   ]
  },
  {
   "cell_type": "code",
   "execution_count": null,
   "metadata": {},
   "outputs": [],
   "source": []
  }
 ],
 "metadata": {
  "kernelspec": {
   "display_name": ".venv_gptswarm",
   "language": "python",
   "name": "python3"
  },
  "language_info": {
   "codemirror_mode": {
    "name": "ipython",
    "version": 3
   },
   "file_extension": ".py",
   "mimetype": "text/x-python",
   "name": "python",
   "nbconvert_exporter": "python",
   "pygments_lexer": "ipython3",
   "version": "3.10.6"
  },
  "orig_nbformat": 4
 },
 "nbformat": 4,
 "nbformat_minor": 2
}

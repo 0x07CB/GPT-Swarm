{
 "cells": [
  {
   "cell_type": "code",
   "execution_count": 9,
   "metadata": {},
   "outputs": [],
   "source": [
    "import os\n",
    "import json\n",
    "from pathlib import Path\n",
    "from langchain.text_splitter import TokenTextSplitter, CharacterTextSplitter\n",
    "from langchain.embeddings.openai import OpenAIEmbeddings\n",
    "from langchain.vectorstores import Chroma, Qdrant\n",
    "from langchain.document_loaders import TextLoader\n",
    "\n",
    "class bcolors:\n",
    "    HEADER = '\\033[95m'\n",
    "    OKBLUE = '\\033[94m'\n",
    "    OKCYAN = '\\033[96m'\n",
    "    OKGREEN = '\\033[92m'\n",
    "    WARNING = '\\033[93m'\n",
    "    FAIL = '\\033[91m'\n",
    "    ENDC = '\\033[0m'\n",
    "    BOLD = '\\033[1m'\n",
    "    UNDERLINE = '\\033[4m'"
   ]
  },
  {
   "cell_type": "code",
   "execution_count": 10,
   "metadata": {},
   "outputs": [
    {
     "name": "stdout",
     "output_type": "stream",
     "text": [
      "D:\\00Repos\\GPT-Swarm\\keys.json\n"
     ]
    }
   ],
   "source": [
    "keys_file = Path(\".\").resolve().parent / \"keys.json\"\n",
    "print(keys_file)\n",
    "with open(keys_file) as f:\n",
    "    keys = json.load(f)\n",
    "os.environ[\"OPENAI_API_KEY\"] = keys[\"OPENAI_API_KEY\"]"
   ]
  },
  {
   "cell_type": "code",
   "execution_count": 11,
   "metadata": {},
   "outputs": [],
   "source": [
    "embeddings = OpenAIEmbeddings()"
   ]
  },
  {
   "cell_type": "code",
   "execution_count": 12,
   "metadata": {},
   "outputs": [
    {
     "name": "stderr",
     "output_type": "stream",
     "text": [
      "Using embedded DuckDB with persistence: data will be stored in: D:\\00Repos\\GPT-Swarm\\tmp\\swarm\\shared_memory\n"
     ]
    }
   ],
   "source": [
    "persist_directory = Path(\"D:\\\\00Repos\\\\GPT-Swarm\\\\tmp\\\\swarm\\\\shared_memory\")\n",
    "vectordb = Chroma(persist_directory=str(persist_directory), embedding_function=embeddings)\n",
    "retriever_chroma = vectordb.as_retriever(search_type=\"mmr\")"
   ]
  },
  {
   "cell_type": "code",
   "execution_count": 13,
   "metadata": {},
   "outputs": [
    {
     "data": {
      "text/plain": [
       "1692"
      ]
     },
     "execution_count": 13,
     "metadata": {},
     "output_type": "execute_result"
    }
   ],
   "source": [
    "vectordb._collection.count()"
   ]
  },
  {
   "cell_type": "code",
   "execution_count": 14,
   "metadata": {},
   "outputs": [],
   "source": [
    "from langchain.chat_models import ChatOpenAI\n",
    "from langchain.chains import ConversationalRetrievalChain, RetrievalQA\n",
    "from langchain.chains.question_answering import load_qa_chain"
   ]
  },
  {
   "cell_type": "code",
   "execution_count": 15,
   "metadata": {},
   "outputs": [],
   "source": [
    "model = ChatOpenAI(model='gpt-3.5-turbo', temperature=0.2) # 'ada' 'gpt-3.5-turbo' 'gpt-4',\n",
    "qa_chain = load_qa_chain(model, chain_type=\"stuff\")\n",
    "qa = RetrievalQA(combine_documents_chain=qa_chain, retriever=retriever_chroma)"
   ]
  },
  {
   "cell_type": "code",
   "execution_count": null,
   "metadata": {},
   "outputs": [],
   "source": [
    "context = (\n",
    "    \"A new startup just send us their pitch. Find if the startup is worth investing in. The startup is called Brainamics and it is in the space of brain computer interfaces.\"\n",
    ")\n",
    "\n",
    "questions = [\n",
    "    \"Generate a comprehensive description of the startup. Describe their value proposition, the product, USP and business model of a startup.\",\n",
    "    \"Find top 10 companies and startups in this field. Find out their locations, raised funding, value proposition, differentiation, etc.\",\n",
    "    \"Find top 5 investors in this field. Includ specific details in the format of 'company AAA (link) invested in company BBB (link) $XX in year YYYY'\",\n",
    "    \"Describe the market size, growth rate and trends of this field.\",\n",
    "    \"Main problems and challenges of the field. Create an extensive list of problems. What can stop the field from growing? What can stop the company from succeeding?\",\n",
    "    \"Briefly describe the technology for the non-tech audience. Include links to the main articles in the field.\",\n",
    "    \"What questions should we ask the startup to make a more informed decision? Avoid generic and obvious questions and focus on field/domain specific questions that can uncover problems with this specific startup.\"\n",
    "]\n",
    "\n",
    "for question in questions:  \n",
    "    result = qa.run(context+question+\"Be very brief and concise. Focus on the essential information and provide https links to the sources.\")\n",
    "    print(f\"=====================================================================================================\")\n",
    "    print(f\"=====================================================================================================\")\n",
    "    print(f\"{bcolors.OKBLUE }**Question**:{bcolors.ENDC } {question} \\n\")\n",
    "    print(f\"{bcolors.OKGREEN  }**Answer**{bcolors.ENDC  }: {result} \\n\")"
   ]
  },
  {
   "cell_type": "code",
   "execution_count": null,
   "metadata": {},
   "outputs": [],
   "source": []
  }
 ],
 "metadata": {
  "kernelspec": {
   "display_name": ".venv_gptswarm",
   "language": "python",
   "name": "python3"
  },
  "language_info": {
   "codemirror_mode": {
    "name": "ipython",
    "version": 3
   },
   "file_extension": ".py",
   "mimetype": "text/x-python",
   "name": "python",
   "nbconvert_exporter": "python",
   "pygments_lexer": "ipython3",
   "version": "3.10.6"
  },
  "orig_nbformat": 4
 },
 "nbformat": 4,
 "nbformat_minor": 2
}

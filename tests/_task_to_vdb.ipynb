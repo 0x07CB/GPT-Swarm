{
 "cells": [
  {
   "cell_type": "code",
   "execution_count": 4,
   "metadata": {},
   "outputs": [],
   "source": [
    "import os\n",
    "import json\n",
    "from pathlib import Path\n",
    "from langchain.text_splitter import TokenTextSplitter, CharacterTextSplitter\n",
    "from langchain.embeddings.openai import OpenAIEmbeddings\n",
    "from langchain.vectorstores import Chroma, Qdrant\n",
    "from langchain.document_loaders import TextLoader"
   ]
  },
  {
   "cell_type": "code",
   "execution_count": 5,
   "metadata": {},
   "outputs": [],
   "source": [
    "report = \"A\"\n",
    "new_info_from_memory = \"B\"\n",
    "prompt = (\n",
    "            f\"The following report was prepared:\\n{report}\\n\"\n",
    "            f\"The following new information was found:\\n{new_info_from_memory}\\n\"\n",
    "            \"\"\"The report must have the following json format and using proper indentations and json formatting: {{ Report: [{{ \"{0}\": \"{1}\", \"{2}\": \"{3}\", \"{4}\": [{5}] }}]}}\"\"\".format(\"Question\", \"questions description\", \"Answer\", \"answer description\", \"Sources\", \"list of web links to the sources\") + \"\\n\"\n",
    "            f\"\"\"Update the report with the new information. For the questions: {report}\"\"\"\n",
    "            f\"Make the report as concise and brief as possible focusing only on the most important information and facts.\"\n",
    "        )"
   ]
  },
  {
   "cell_type": "code",
   "execution_count": 6,
   "metadata": {},
   "outputs": [
    {
     "name": "stdout",
     "output_type": "stream",
     "text": [
      "The following report was prepared:\n",
      "A\n",
      "The following new information was found:\n",
      "B\n",
      "The report must have the following json format and using proper indentations and json formatting: { Report: [{ \"Question\": \"questions description\", \"Answer\": \"answer description\", \"Sources\": [list of web links to the sources] }]}\n",
      "Update the report with the new information. For the questions: AMake the report as concise and brief as possible focusing only on the most important information and facts.\n"
     ]
    }
   ],
   "source": [
    "print(prompt)"
   ]
  },
  {
   "cell_type": "code",
   "execution_count": 7,
   "metadata": {},
   "outputs": [
    {
     "name": "stdout",
     "output_type": "stream",
     "text": [
      "D:\\00Repos\\GPT-Swarm\\keys.json\n"
     ]
    }
   ],
   "source": [
    "keys_file = Path(\".\").resolve().parent / \"keys.json\"\n",
    "print(keys_file)\n",
    "with open(keys_file) as f:\n",
    "    keys = json.load(f)\n",
    "os.environ[\"OPENAI_API_KEY\"] = keys[\"OPENAI_API_KEY\"]"
   ]
  },
  {
   "cell_type": "code",
   "execution_count": 8,
   "metadata": {},
   "outputs": [],
   "source": [
    "embeddings = OpenAIEmbeddings()"
   ]
  },
  {
   "cell_type": "code",
   "execution_count": 9,
   "metadata": {},
   "outputs": [
    {
     "name": "stderr",
     "output_type": "stream",
     "text": [
      "Using embedded DuckDB with persistence: data will be stored in: D:\\00Repos\\GPT-Swarm\\tmp\\swarm\\shared_memory\n"
     ]
    }
   ],
   "source": [
    "persist_directory = Path(\"D:\\\\00Repos\\\\GPT-Swarm\\\\tmp\\\\swarm\\\\shared_memory\")\n",
    "vectordb = Chroma(persist_directory=str(persist_directory), embedding_function=embeddings)\n",
    "retriever_chroma = vectordb.as_retriever(search_type=\"mmr\")"
   ]
  },
  {
   "cell_type": "code",
   "execution_count": 10,
   "metadata": {},
   "outputs": [
    {
     "data": {
      "text/plain": [
       "408"
      ]
     },
     "execution_count": 10,
     "metadata": {},
     "output_type": "execute_result"
    }
   ],
   "source": [
    "vectordb._collection.count()"
   ]
  },
  {
   "cell_type": "code",
   "execution_count": 11,
   "metadata": {},
   "outputs": [],
   "source": [
    "from langchain.chat_models import ChatOpenAI\n",
    "from langchain.chains import ConversationalRetrievalChain, RetrievalQA\n",
    "from langchain.chains.question_answering import load_qa_chain"
   ]
  },
  {
   "cell_type": "code",
   "execution_count": 12,
   "metadata": {},
   "outputs": [],
   "source": [
    "model = ChatOpenAI(model='gpt-3.5-turbo', temperature=0) # 'ada' 'gpt-3.5-turbo' 'gpt-4',\n",
    "qa_chain = load_qa_chain(model, chain_type=\"stuff\")\n",
    "qa = RetrievalQA(combine_documents_chain=qa_chain, retriever=retriever_chroma)"
   ]
  },
  {
   "cell_type": "code",
   "execution_count": 13,
   "metadata": {},
   "outputs": [
    {
     "name": "stdout",
     "output_type": "stream",
     "text": [
      "=====================================================================================================\n",
      "=====================================================================================================\n",
      "-> **Question**: Generate a comprehensive description of the startup. Describe the value proposition, the product, USP and business model of a startup. \n",
      "\n",
      "**Answer**: Brainamics is a startup operating in the brain computer interface industry, aiming to enhance human performance through its technology. Their value proposition is to develop brain computer interfaces that can be integrated into various devices to improve performance in gaming, education, and healthcare. The product uses electroencephalography (EEG) technology to measure brain activity and translate it into commands that control devices. The unique selling point of Brainamics is that their brain computer interfaces are affordable, user-friendly, and compatible with a wide range of devices, making them accessible and scalable. The business model generates revenue through a combination of software licensing fees and consulting services, providing a diversified income stream. Sources: \n",
      "1. https://brainamics.co/\n",
      "2. https://www.techopedia.com/definition/30666/brain-computer-interface-bci \n",
      "\n",
      "=====================================================================================================\n",
      "=====================================================================================================\n",
      "-> **Question**: Find any mentions of the startup in the news, social media, etc. \n",
      "\n",
      "**Answer**: I'm sorry, but as an AI language model, I don't have access to the internet or news sources to find recent mentions of the startup Brainamics. However, you can run a quick online search with relevant keywords like \"Brainamics startup news\" or \"Brainamics startup social media mentions\" to check for any relevant information on the internet. Also, it's important to evaluate other factors such as the founding team, technology, market size, competition, and financial projections to determine whether the startup is worth investing in, besides the mentions in news and social media. \n",
      "\n",
      "=====================================================================================================\n",
      "=====================================================================================================\n",
      "-> **Question**: Find top companies and startups in this field. Find out their locations, raised funding, value proposition, differentiation, etc. \n",
      "\n",
      "**Answer**: Brainamics is a startup in the field of brain computer interfaces. Here is some essential information about the startup and the industry:\n",
      "\n",
      "- Location: Based in the United States.\n",
      "- Raised funding: Secured $5 million in seed funding. \n",
      "- Value proposition: Develops a non-invasive brain-computer interface that can be used by individuals with disabilities to control their environment. \n",
      "- Differentiation: Uses a proprietary algorithm that enables precise and accurate control of devices through brain signals. \n",
      "\n",
      "Here are some sources to support this information:\n",
      "\n",
      "- Pitch deck (provided by the startup): [link]\n",
      "- News article about Brainamics' seed funding: [link]\n",
      "- Description of Brain-Computer Interface (BCI) industry: [link] \n",
      "\n",
      "=====================================================================================================\n",
      "=====================================================================================================\n",
      "-> **Question**: Find top investors in this field. Including specific details like 'company AAA (link) invested in company BBB (link) $XX in year YYYY' \n",
      "\n",
      "**Answer**: After researching, it appears that Brainamics, a brain computer interface startup, has potential for investment. Some of the top investors in this field include:\n",
      "\n",
      "1. Andreessen Horowitz - invested in CTRL-Labs, Neuralink, and Kernel. Link: https://a16z.com/portfolio/\n",
      "2. Founders Fund - invested in Neuralink. Link: https://foundersfund.com/portfolio/\n",
      "3. Khosla Ventures - invested in Openwater. Link: https://www.khoslaventures.com/portfolio/\n",
      "\n",
      "In 2019, Johnson & Johnson Innovation - JJDC, Inc. invested an undisclosed amount in BrainBoost. However, it is not clear whether this is the same as Brainamics. Link: https://www.prnewswire.com/news-releases/brainboost-raises-funding-from-johnson--johnson-innovation-jjdc-inc-300864633.html\n",
      "\n",
      "Further analysis would be needed to determine the specific potential of Brainamics and whether it is a good investment opportunity. \n",
      "\n",
      "=====================================================================================================\n",
      "=====================================================================================================\n",
      "-> **Question**: Describe the market size, growth rate and trends of this field. \n",
      "\n",
      "**Answer**: The market size of brain computer interfaces is expected to reach USD 1.72 billion by 2026, with a CAGR of 15.2% from 2021 to 2026. The demand for non-invasive BCIs is increasing due to their use in various applications such as gaming, communication, and healthcare. The major trend in this field is the advancement of artificial intelligence and machine learning algorithms to enhance BCI performance. Sources: \n",
      "- https://www.marketsandmarkets.com/Market-Reports/brain-computer-interface-market-155811593.html \n",
      "- https://www.grandviewresearch.com/industry-analysis/brain-computer-interface-market \n",
      "\n",
      "=====================================================================================================\n",
      "=====================================================================================================\n",
      "-> **Question**: Main problems and challenges of the field. Create an extensive list of problems. What can stop the field from growing? What can stop the company from succeeding? \n",
      "\n",
      "**Answer**: Upon reviewing the pitch for Brainamics, a startup in the field of brain computer interfaces, there are several challenges and risks associated with investing in this industry. Some potential problems and challenges in the field of brain computer interfaces include:\n",
      "\n",
      "1. Lack of Market Demand: There is still a lack of mainstream adoption and market demand for brain computer interfaces. This lack of demand could hinder the growth of the industry. (source: https://www.marketwatch.com/press-release/brain-computer-interfaces-market-size-growth-share-trends-and-forecast-2020-2025-2020-04-29)\n",
      "\n",
      "2. Technological Limitations: Brain computer interfaces are still in the early stages of development, and the technology is not yet sophisticated enough to provide reliable results. Additionally, EEG-based brain computer interfaces have limitations such as low signal-to-noise ratio and susceptibility to electromagnetic interference. This could hinder Brainamics' ability to develop and sell reliable products. (source: https://www.ncbi.nlm.nih.gov/pmc/articles/PMC6305755/)\n",
      "\n",
      "3. Ethical and Legal Concerns: There are ethical and legal concerns associated with brain computer interfaces, such as the potential for misuse and invasion of privacy. Brainamics will need to navigate these concerns to gain regulatory approval and acceptance in the market. (source: https://www.wired.com/story/brain-computer-interface-ethics/)\n",
      "\n",
      "Based on these potential challenges and risks, it is important to carefully evaluate Brainamics before investing. They will need to demonstrate innovative ideas and solutions for these problems to be successful. \n",
      "\n",
      "=====================================================================================================\n",
      "=====================================================================================================\n",
      "-> **Question**: Briefly describe the technology for the non-tech audience. Include links to the main articles in the field. \n",
      "\n",
      "**Answer**: Brainamics is a startup in the field of brain computer interfaces. Their technology allows people to control devices using their thoughts. The product is non-invasive and uses EEG technology to read brain signals. It has high accuracy, low latency, and can work with a variety of devices. Here are some sources for more information on brain computer interfaces: \n",
      "- \"What are Brain-Computer Interfaces?\" - MIT Technology Review: https://www.technologyreview.com/2020/01/27/986876/what-are-brain-computer-interfaces/\n",
      "- \"A Non-Invasive Brain-Computer Interface That Works in Minutes\" - IEEE Spectrum: https://spectrum.ieee.org/the-human-os/biomedical/devices/noninvasive-braincomputer-interface-works-in-minutes \n",
      "\n",
      "=====================================================================================================\n",
      "=====================================================================================================\n",
      "-> **Question**: Who are the main influencers in this field? \n",
      "\n",
      "**Answer**: The main influencers in the field of brain computer interfaces are:\n",
      "\n",
      "1. Neuralink - https://neuralink.com/\n",
      "2. Kernel - https://kernel.co/\n",
      "3. CTRL-Labs - https://www.ctrl-labs.com/\n",
      "4. Emotiv - https://www.emotiv.com/\n",
      "5. Blackrock Microsystems - https://www.blackrockmicro.com/\n",
      "\n",
      "Without further analysis of Brainamics' technology, management team, and market potential, it is not possible to determine if the startup is worth investing in. \n",
      "\n",
      "=====================================================================================================\n",
      "=====================================================================================================\n",
      "-> **Question**: What questions should we ask the startup to make a more informed decision? Avoid generic and obvious questions and focus on field/domain specific questions that can uncover problems with this specific startup. \n",
      "\n",
      "**Answer**: To make an informed decision about investing in Brainamics, we need to ask the following domain-specific questions:\n",
      "\n",
      "1. What is the scientific and technological background behind Brainamics' brain computer interface? How does it work? (Source: https://www.ncbi.nlm.nih.gov/pmc/articles/PMC7349131/)\n",
      "2. What is the market potential for Brainamics' brain computer interface technology? Is Brainamics targeting a specific market niche or a broader audience? (Source: https://www.statista.com/topics/4779/brain-computer-interfaces/)\n",
      "3. Can Brainamics provide evidence of their technology's efficacy and safety? (Source: https://www.ncbi.nlm.nih.gov/pmc/articles/PMC7969812/)\n",
      "4. Does Brainamics have intellectual property protection in place for their technology? (Source: https://www.uspto.gov/patents-getting-started/international-protection/patent-cooperation-treaty-pct)\n",
      "5. What is Brainamics' plan for regulatory approval and compliance for their technology? (Source: https://www.fda.gov/medical-devices/digital-health-center-excellence) \n",
      "\n",
      "Based on the answers to these questions and a thorough analysis of the company's business model, we can make an informed decision on whether to invest in Brainamics. \n",
      "\n"
     ]
    }
   ],
   "source": [
    "\"\"\"\n",
    "    - Generate a comprehensive description of the startup. Describe the value proposition, the product, USP and business model of a startup.\n",
    "    - Find any mentions of the startup in the news, social media, etc.\n",
    "    - Find top companies and startups in this field. Find out their locations, raised funding, value proposition, differentiation, etc.\n",
    "    - Find top investors in this field. Including specific details like 'company AAA (link) invested in company BBB (link) $XX in year YYYY'\n",
    "    - Describe the market size, growth rate and trends of this field.\n",
    "    - Main problems and challenges of the field. Create an extensive list of problems. What can stop the field from growing? What can stop the company from succeeding?\n",
    "    - Briefly describe the technology for the non-tech audience. Include links to the main articles in the field.\n",
    "    - Who are the main influencers in this field?\n",
    "    - What questions should we ask the startup to make a more informed decision? Avoid generic and obvious questions and focus on field/domain specific questions that can uncover problems with this specific startup.\n",
    "\"\"\"\n",
    "\n",
    "context = (\n",
    "    \"A new startup just send us their pitch. Find if the startup is worth investing in. The startup is called Brainamics and it is in the space of brain computer interfaces.\"\n",
    ")\n",
    "\n",
    "questions = [\n",
    "    \"Generate a comprehensive description of the startup. Describe the value proposition, the product, USP and business model of a startup.\",\n",
    "    \"Find any mentions of the startup in the news, social media, etc.\",\n",
    "    \"Find top companies and startups in this field. Find out their locations, raised funding, value proposition, differentiation, etc.\",\n",
    "    \"Find top investors in this field. Including specific details like 'company AAA (link) invested in company BBB (link) $XX in year YYYY'\",\n",
    "    \"Describe the market size, growth rate and trends of this field.\",\n",
    "    \"Main problems and challenges of the field. Create an extensive list of problems. What can stop the field from growing? What can stop the company from succeeding?\",\n",
    "    \"Briefly describe the technology for the non-tech audience. Include links to the main articles in the field.\",\n",
    "    \"Who are the main influencers in this field?\",\n",
    "    \"What questions should we ask the startup to make a more informed decision? Avoid generic and obvious questions and focus on field/domain specific questions that can uncover problems with this specific startup.\"\n",
    "]\n",
    "\n",
    "for question in questions:  \n",
    "    result = qa.run(context+question+\"Be very brief and concise. Focus on the essential information and provide https links to the sources.\")\n",
    "    print(f\"=====================================================================================================\")\n",
    "    print(f\"=====================================================================================================\")\n",
    "    print(f\"-> **Question**: {question} \\n\")\n",
    "    print(f\"**Answer**: {result} \\n\")"
   ]
  },
  {
   "cell_type": "code",
   "execution_count": null,
   "metadata": {},
   "outputs": [],
   "source": []
  }
 ],
 "metadata": {
  "kernelspec": {
   "display_name": ".venv_gptswarm",
   "language": "python",
   "name": "python3"
  },
  "language_info": {
   "codemirror_mode": {
    "name": "ipython",
    "version": 3
   },
   "file_extension": ".py",
   "mimetype": "text/x-python",
   "name": "python",
   "nbconvert_exporter": "python",
   "pygments_lexer": "ipython3",
   "version": "3.10.6"
  },
  "orig_nbformat": 4
 },
 "nbformat": 4,
 "nbformat_minor": 2
}

{
 "cells": [
  {
   "cell_type": "code",
   "execution_count": 1,
   "metadata": {},
   "outputs": [],
   "source": [
    "import sys\n",
    "from pathlib import Path\n",
    "sys.path.append('..')\n",
    "\n",
    "from gptswarm.utils.challenges.PythonChallenge import PythonChallenge\n",
    "\n",
    "%load_ext autoreload\n",
    "%autoreload 2"
   ]
  },
  {
   "cell_type": "code",
   "execution_count": 2,
   "metadata": {},
   "outputs": [],
   "source": [
    "test_challenge_config = Path('D:/00Repos/GPT-Swarm/gptswarm/utils/challenges/python_challenges/challenge1/challenge1_config.yaml')"
   ]
  },
  {
   "cell_type": "code",
   "execution_count": 3,
   "metadata": {},
   "outputs": [],
   "source": [
    "challenge1 = PythonChallenge(test_challenge_config)"
   ]
  },
  {
   "cell_type": "code",
   "execution_count": 4,
   "metadata": {},
   "outputs": [],
   "source": [
    "probelm = challenge1.get_problem()"
   ]
  },
  {
   "cell_type": "code",
   "execution_count": 5,
   "metadata": {},
   "outputs": [
    {
     "data": {
      "text/plain": [
       "'You are given an integer array nums of length n which represents a permutation of all the integers in the range [0, n - 1].\\nThe number of global inversions is the number of the different pairs (i, j) where:\\n\\n0 <= i < j < n\\nnums[i] > nums[j]\\nThe number of local inversions is the number of indices i where:\\n\\n0 <= i < n - 1\\nnums[i] > nums[i + 1]\\nReturn true if the number of global inversions is equal to the number of local inversions.\\n\\nExample 1:\\nInput: nums = [1,0,2]\\nOutput: true\\nExplanation: There is 1 global inversion and 1 local inversion.\\n\\nExample 2:\\nInput: nums = [1,2,0]\\nOutput: false\\nExplanation: There are 2 global inversions and 1 local inversion.\\n\\nConstraints:\\nn == nums.length\\n1 <= n <= 105\\n0 <= nums[i] < n\\nAll the integers of nums are unique.\\nnums is a permutation of all the numbers in the range [0, n - 1].\\n\\nFunction to implement:\\n```python\\ndef isIdealPermutation(self, A: list) -> bool:\\n    \"\"\"\\n    Args:\\n        - A (List[int]): a list of integers.\\n    \\n    Returns:\\n        bool: true if the number of global inversions is equal to the number of local inversions\\n    \"\"\"\\n    pass\\n```'"
      ]
     },
     "execution_count": 5,
     "metadata": {},
     "output_type": "execute_result"
    }
   ],
   "source": [
    "probelm"
   ]
  },
  {
   "cell_type": "code",
   "execution_count": 6,
   "metadata": {},
   "outputs": [],
   "source": [
    "test_solution_correct = (\n",
    "    \"Here is my solution:\\n\"\n",
    "    \"```python\\n\"\n",
    "    \"from typing import List\\n\"\n",
    "    \"def isIdealPermutation(A: List[int]) -> bool:\\n\"\n",
    "    \"    for i in range(len(A)):\\n\"\n",
    "    \"        if i - A[i] > 1 or i - A[i] < -1: return False\\n\"\n",
    "    \"    return True\\n\"\n",
    "    \"```\\n\"\n",
    ")\n",
    "\n",
    "test_solution_incorrect = (\n",
    "    \"Here is my solution:\\n\"\n",
    "    \"```python\\n\"\n",
    "    \"from typing import List\\n\"\n",
    "    \"def isIdealPermutation(A: List[int]) -> bool:\\n\"\n",
    "    \"    for i in range(len(A)):\\n\"\n",
    "    \"        if i - A[i] > 1 or i - A[i] < -1: return False\\n\"\n",
    "    \"    return False\\n\"\n",
    "    \"```\\n\"\n",
    ")\n",
    "\n",
    "test_solution_error = (\n",
    "    \"Here is my solution:\\n\"\n",
    "    \"```python\\n\"\n",
    "    \"def isIdealPermutation(A: List[int]) -> bool:\\n\"\n",
    "    \"    for i in range(len(A)):\\n\"\n",
    "    \"        if i - A[i] > 1 or i - A[i] < -1: return False\\n\"\n",
    "    \"    return False\\n\"\n",
    "    \"```\\n\"\n",
    ")\n",
    "\n",
    "test_solution_error_internal = (\n",
    "    \"Here is my solution:\\n\"\n",
    "    \"```python\\n\"\n",
    "    \"from typing import List\\n\"\n",
    "    \"def isIdealPermutation(A: List[int]) -> bool:\\n\"\n",
    "    \"    for i in range(len(A)):\\n\"\n",
    "    \"        if i - A[i] > 1 or i - A[i] < -1: return 'a'/0\\n\"\n",
    "    \"    return False\\n\"\n",
    "    \"```\\n\"\n",
    ")"
   ]
  },
  {
   "cell_type": "code",
   "execution_count": 10,
   "metadata": {},
   "outputs": [
    {
     "data": {
      "text/plain": [
       "(1.0,\n",
       " \"Input: {'A': [0, 3, 8, 6, 4, 2, 7, 5, 1]}\\nResult: False\\nExpected: False\\nCorrect: True\\n\\nInput: {'A': [4, 0, 3, 1, 2]}\\nResult: False\\nExpected: False\\nCorrect: True\\n\\nInput: {'A': [0, 4, 3, 1, 2, 5]}\\nResult: False\\nExpected: False\\nCorrect: True\\n\\nInput: {'A': [4, 7, 3, 1, 2, 6, 0, 5]}\\nResult: False\\nExpected: False\\nCorrect: True\\n\\nInput: {'A': [1, 2, 0]}\\nResult: False\\nExpected: False\\nCorrect: True\\n\\nInput: {'A': [7, 2, 6, 5, 1, 3, 0, 4]}\\nResult: False\\nExpected: False\\nCorrect: True\\n\\nInput: {'A': [0, 1]}\\nResult: True\\nExpected: True\\nCorrect: True\\n\\nInput: {'A': [2, 0, 1]}\\nResult: False\\nExpected: False\\nCorrect: True\\n\\nInput: {'A': [2, 3, 0, 4, 1]}\\nResult: False\\nExpected: False\\nCorrect: True\\n\")"
      ]
     },
     "execution_count": 10,
     "metadata": {},
     "output_type": "execute_result"
    }
   ],
   "source": [
    "challenge1.evaluate_solution(test_solution_correct)"
   ]
  },
  {
   "cell_type": "code",
   "execution_count": 19,
   "metadata": {},
   "outputs": [
    {
     "data": {
      "text/plain": [
       "(0.9,\n",
       " \"Input: {'A': [2, 0, 1, 3]}\\nResult: False\\nExpected: False\\nCorrect: True\\n\\nInput: {'A': [0, 2, 4, 1, 3]}\\nResult: False\\nExpected: False\\nCorrect: True\\n\\nInput: {'A': [0, 1, 3, 5, 2, 4, 6]}\\nResult: False\\nExpected: False\\nCorrect: True\\n\\nInput: {'A': [1, 5, 4, 3, 0, 2]}\\nResult: False\\nExpected: False\\nCorrect: True\\n\\nInput: {'A': [0, 2, 1]}\\nResult: False\\nExpected: True\\nCorrect: False\\n\\nInput: {'A': [2, 0, 3, 5, 4, 1]}\\nResult: False\\nExpected: False\\nCorrect: True\\n\\nInput: {'A': [4, 1, 6, 0, 5, 2, 3]}\\nResult: False\\nExpected: False\\nCorrect: True\\n\\nInput: {'A': [2, 1, 3, 0]}\\nResult: False\\nExpected: False\\nCorrect: True\\n\\nInput: {'A': [1, 2, 0, 4, 3, 5]}\\nResult: False\\nExpected: False\\nCorrect: True\\n\")"
      ]
     },
     "execution_count": 19,
     "metadata": {},
     "output_type": "execute_result"
    }
   ],
   "source": [
    "challenge1.evaluate_solution(test_solution_incorrect)"
   ]
  },
  {
   "cell_type": "code",
   "execution_count": 20,
   "metadata": {},
   "outputs": [
    {
     "data": {
      "text/plain": [
       "(0,\n",
       " \"Error during loading submitted code. Make sure you enclose your code in ```python\\n ```, include a function with the name isIdealPermutation, and have all the necessary imports.\\nError: name 'List' is not defined\")"
      ]
     },
     "execution_count": 20,
     "metadata": {},
     "output_type": "execute_result"
    }
   ],
   "source": [
    "challenge1.evaluate_solution(test_solution_error)"
   ]
  },
  {
   "cell_type": "code",
   "execution_count": 21,
   "metadata": {},
   "outputs": [
    {
     "data": {
      "text/plain": [
       "(0.0,\n",
       " \"unsupported operand type(s) for /: 'str' and 'int'\\nInput: {'A': [1, 0]}\\nResult: False\\nExpected: True\\nCorrect: False\\n\\nInput: {'A': [0, 1, 2]}\\nResult: False\\nExpected: True\\nCorrect: False\\n\\nInput: {'A': [0]}\\nResult: False\\nExpected: True\\nCorrect: False\\n\")"
      ]
     },
     "execution_count": 21,
     "metadata": {},
     "output_type": "execute_result"
    }
   ],
   "source": [
    "challenge1.evaluate_solution(test_solution_error_internal)"
   ]
  },
  {
   "cell_type": "code",
   "execution_count": 2,
   "metadata": {},
   "outputs": [
    {
     "name": "stdout",
     "output_type": "stream",
     "text": [
      "Solution:\n",
      "\n",
      "We can use the following observation to solve this problem in O(n) complexity:\n",
      "\n",
      "- Any local inversion is a global inversion.\n",
      "- If there is any global inversion that is not a local inversion, then the number of global inversions will be greater than the number of local inversions.\n",
      "\n",
      "Therefore, we only need to check if there is any global inversion that is not a local inversion. We can do this by keeping track of the maximum value seen so far and checking if there is any value after it that is less than it. If there is, then we have found a global inversion that is not a local inversion.\n",
      "\n",
      "Here's the Python code to implement this algorithm:\n",
      "\n",
      "```python\n",
      "def isIdealPermutation(A: list) -> bool:\n",
      "    \"\"\"\n",
      "    Args:\n",
      "        - A (list[int]): a list of integers.\n",
      "    \n",
      "    Returns:\n",
      "        bool: true if the number of global inversions is equal to the number of local inversions\n",
      "    \"\"\"\n",
      "    max_val = -1\n",
      "    for i in range(len(A)-2):\n",
      "        max_val = max(max_val, A[i])\n",
      "        if max_val > A[i+2]:\n",
      "            return False\n",
      "    return True\n",
      "```\n"
     ]
    }
   ],
   "source": [
    "print('Solution:\\n\\nWe can use the following observation to solve this problem in O(n) complexity:\\n\\n- Any local inversion is a global inversion.\\n- If there is any global inversion that is not a local inversion, then the number of global inversions will be greater than the number of local inversions.\\n\\nTherefore, we only need to check if there is any global inversion that is not a local inversion. We can do this by keeping track of the maximum value seen so far and checking if there is any value after it that is less than it. If there is, then we have found a global inversion that is not a local inversion.\\n\\nHere\\'s the Python code to implement this algorithm:\\n\\n```python\\ndef isIdealPermutation(A: list) -> bool:\\n    \"\"\"\\n    Args:\\n        - A (list[int]): a list of integers.\\n    \\n    Returns:\\n        bool: true if the number of global inversions is equal to the number of local inversions\\n    \"\"\"\\n    max_val = -1\\n    for i in range(len(A)-2):\\n        max_val = max(max_val, A[i])\\n        if max_val > A[i+2]:\\n            return False\\n    return True\\n```')"
   ]
  },
  {
   "cell_type": "code",
   "execution_count": null,
   "metadata": {},
   "outputs": [],
   "source": []
  }
 ],
 "metadata": {
  "kernelspec": {
   "display_name": ".venv_gptswarm",
   "language": "python",
   "name": "python3"
  },
  "language_info": {
   "codemirror_mode": {
    "name": "ipython",
    "version": 3
   },
   "file_extension": ".py",
   "mimetype": "text/x-python",
   "name": "python",
   "nbconvert_exporter": "python",
   "pygments_lexer": "ipython3",
   "version": "3.10.6"
  },
  "orig_nbformat": 4
 },
 "nbformat": 4,
 "nbformat_minor": 2
}
